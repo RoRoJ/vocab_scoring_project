{
 "cells": [
  {
   "cell_type": "markdown",
   "metadata": {},
   "source": [
    "# Texts 4 to 6 Vocabulary Item Extraction Evaluation\n",
    "\n",
    "This notebook calls the TextScorer Class (which in turn calls the TextItems class) to extract vocabulary items from the specified text files. We then analyse the success of the extraction."
   ]
  },
  {
   "cell_type": "markdown",
   "metadata": {},
   "source": [
    "#### Create instances of the TextScorer class to extract vocab items and their teacher scores"
   ]
  },
  {
   "cell_type": "code",
   "execution_count": 1,
   "metadata": {
    "collapsed": true
   },
   "outputs": [],
   "source": [
    "from tool.TextScorer import TextScorer\n",
    "from tool.TeacherScores import TeacherScores"
   ]
  },
  {
   "cell_type": "code",
   "execution_count": 2,
   "metadata": {
    "collapsed": true
   },
   "outputs": [],
   "source": [
    "text4 = TextScorer('files/sample_texts/text4.txt')\n",
    "text4_with_teacherscores=TeacherScores('text4').add_teacher_scores(text4.master_table)\n",
    "\n",
    "text5 = TextScorer('files/sample_texts/text5.txt')\n",
    "text5_with_teacherscores=TeacherScores('text5').add_teacher_scores(text5.master_table)\n",
    "\n",
    "text6 = TextScorer('files/sample_texts/text6.txt')\n",
    "text6_with_teacherscores=TeacherScores('text6').add_teacher_scores(text6.master_table)"
   ]
  },
  {
   "cell_type": "code",
   "execution_count": 3,
   "metadata": {
    "collapsed": true
   },
   "outputs": [],
   "source": [
    "#create dictionary instances of the target vocabulary items (as extracted by teachers) for each text\n",
    "target_vocab_items_text4 = TeacherScores('text4').teacher_scores_dict\n",
    "target_vocab_items_text5 = TeacherScores('text5').teacher_scores_dict\n",
    "target_vocab_items_text6 = TeacherScores('text6').teacher_scores_dict"
   ]
  },
  {
   "cell_type": "code",
   "execution_count": 4,
   "metadata": {
    "collapsed": true
   },
   "outputs": [],
   "source": [
    "#helper method to evaluate whether all teacher target items have been extracted\n",
    "def evaluate_found(tool, teacherdict):\n",
    "    teacherdict\n",
    "    count_total=0\n",
    "    count_found=0\n",
    "    count_notfound=0\n",
    "    count_notfound_single=0\n",
    "    not_found=[]\n",
    "    for key in teacherdict:\n",
    "        count_total+=1\n",
    "        if key in tool:\n",
    "            count_found+=1\n",
    "        else:\n",
    "            count_notfound+=1\n",
    "            not_found.append(key)\n",
    "            if type(key)!=tuple:\n",
    "                count_notfound_single+=1\n",
    "    print(count_total, 'target vocab items.', count_found, 'found, (', (round((count_found/count_total)*100),0), '%).', \n",
    "          count_notfound, 'unfound, of which', count_notfound_single, 'is/are single word(s). Unfound items: \\n', not_found)"
   ]
  },
  {
   "cell_type": "markdown",
   "metadata": {},
   "source": [
    "#### Evaluate the success of the extraction in each test by examining its list of vocabulary items and comparing to teacher targets"
   ]
  },
  {
   "cell_type": "code",
   "execution_count": 5,
   "metadata": {},
   "outputs": [
    {
     "name": "stdout",
     "output_type": "stream",
     "text": [
      "Text 4\n",
      "52 target vocab items. 36 found, ( (69, 0) %). 16 unfound, of which 2 is/are single word(s). Unfound items: \n",
      " [('credit', 'card', 'debt'), ('eat', 'the', 'fees'), ('expand', 'the', 'pie'), ('focus', 'on'), ('land', 'a', 'client'), ('marketable', 'skills'), ('master', 'class'), ('on', 'your', 'own', 'time'), ('payment', 'plan'), ('product', 'coaches'), 'productizing', ('put', 'in', 'the', 'work'), 'scale', ('side', 'business'), ('walk', 'you', 'through'), ('work', 'one', 'on', 'one')]\n"
     ]
    }
   ],
   "source": [
    "print('Text 4')\n",
    "evaluate_found(text4_with_teacherscores['word_in_text'].tolist(), target_vocab_items_text4)"
   ]
  },
  {
   "cell_type": "code",
   "execution_count": 6,
   "metadata": {},
   "outputs": [
    {
     "name": "stdout",
     "output_type": "stream",
     "text": [
      "Text 5\n",
      "43 target vocab items. 36 found, ( (84, 0) %). 7 unfound, of which 0 is/are single word(s). Unfound items: \n",
      " [('apply', 'for'), ('cover', 'costs'), ('force', 'to'), ('illegal', 'activities'), ('out', 'of', 'fear'), ('set', 'restrictions'), ('throw', 'into', 'disarray')]\n"
     ]
    }
   ],
   "source": [
    "print('Text 5')\n",
    "evaluate_found(text5_with_teacherscores['word_in_text'].tolist(), target_vocab_items_text5)"
   ]
  },
  {
   "cell_type": "code",
   "execution_count": 7,
   "metadata": {},
   "outputs": [
    {
     "name": "stdout",
     "output_type": "stream",
     "text": [
      "Text 6\n",
      "46 target vocab items. 35 found, ( (76, 0) %). 11 unfound, of which 1 is/are single word(s). Unfound items: \n",
      " [('(across', 'the)', 'globe'), ('(parental)', 'leave', '(benefits)'), ('(purpose)', 'driven'), ('address', '[verb]'), ('committed', 'to'), ('date', 'back', 'to'), 'impactful', ('leading', 'news'), ('make', 'headlines'), ('set', '(goals)'), ('track', '(progress)')]\n"
     ]
    }
   ],
   "source": [
    "print('Text 6')\n",
    "evaluate_found(text6_with_teacherscores['word_in_text'].tolist(), target_vocab_items_text6)"
   ]
  },
  {
   "cell_type": "markdown",
   "metadata": {},
   "source": [
    "#### Consider the unique extracted vocabulary items for each text"
   ]
  },
  {
   "cell_type": "code",
   "execution_count": 8,
   "metadata": {},
   "outputs": [
    {
     "name": "stdout",
     "output_type": "stream",
     "text": [
      "Text 4 Extracted Items: {('break', 'down'), 'day', 'new', 'focus', 'ridiculous', 'no-brainer', 'read', 'them', 'work', 'success', 'button', 'my', 'zero', 'everyone', 'who', ('on', 'the', 'side'), 'credit-card', 'ensure', 'delighted', 'plans', 'eat', 'focuses', ('i', 'know'), 'keep', 'now', 'first', 'take', ('know', 'what'), 'it', 'shows', ('check', 'out'), 'that', 'want', 'membership', 'ban', 'follow-ups', 'but', 'finance', 'save', 'the', ('cut', 'back'), 'mornings', 'material', 'book', 'me', 'thing', 'skills', 'your', 'complete', 'clients', 'students', 'days', 'period', 'they', 'system', 'what', 'three', 'master', 'common', 'works', 'yet', 'or', ('scale', 'up'), 'each', 'offer', ('what', 'if'), 'client', 'busy', 'page', 'click', 'idea', ('on', 'the', 'fence'), 'spending', 'crafted', 'money', 'consulting', 'would', 'for', ('data', 'points'), 'hours', 'worry', 'walk', ('there', 'be'), 'got', 'ask', 'guide', 'job', 'pay', 'from', ('lie', 'around'), 'step-by-step', 'hi', 'techniques', 'to', 'refund', 'start', 'email', 'full-time', ('start', 'off'), 'offers', 'so', 'raising', 'offering', 'earning', 'be', ('stay', 'on'), 'a', 'even', 'learning', 'will', 'rigorously', ('case', 'studies'), 'remember', 'own', 'completely', 'are', 'this', 'and', 'testing', 'cost', 'give', 'taking', 'exact', 'exactly', 'limited', 'an', 'most', 'profitable', 'saving', 'online', ('take', 'to'), 'instead', 'if', 'course', 'about', 'have', 'something', 'don', 'doors', 'help', 'd', ('along', 'with'), 'no', ('have', 'to'), 'finding', 'landing', 'entire', 'invested', 'library', 'designed', 'officially', 'monthly', 'knowledge', 'rates', 'month', 'debt', 'different', ('i', 'want', 'to', 'know'), 'pie', ('do', 'it'), 'side', 'find', 'why', 'thousands', ('light', 'at', 'the', 'end', 'of', 'the', 'tunnel'), 'you', 'then', 'teach', 'details', ('spread', 'out'), 'dollar', 'over', 'convenient', 'built-in', 'show', 'create', 'scripts', ('right', 'now'), 'classes', 'managing', 'ones', 'enrolment', 'full', 'risking', ('the', 'end'), 'hundreds', ('even', 'if'), 'of', 'pages', 'increased', 'any', ('to', 'scale'), 'without', 't', 'beyond', 'called', 'dollars', 'freelancing', 'is', 'via', 'not', 'need', 'decide', 're', 'worked', 'personal', 'expand', 'questions', 'through', 'gathered', 'paid', 'by', 'because', 'again', 'way', 'try', 'yellow', 'fees', 'specific', 'payment', 'cancel', ('for', 'free'), 'with', 'focused', 'do', 'individual', ('put', 'in'), 'than', 'already', 'i', 'm', 'increase', 'today', 'process', ('on', 'and', 'on'), ('there', 'are'), 'love', 'willing', 'how', 'rest', 'tested', ('do', 'what'), ('credit', 'card'), 'product', 'started', 'step', 'was', 'opening', 'working', ('of', 'a'), 'getting', 'while', 'manage', ('how', 'do'), 'module', 'on', 'steps', 'earn', 'small', ('kind', 'of'), ('on', 'track'), ('up', 'to'), 'marketable', 'check-ins', 'paying', ('like', 'that'), 'can', 'here', 'more', 'investment', 'optimizing', 'all', 'coaches', 'open', 'life', ('talk', 'about'), 'designing', 'added', 'next', 'every', 'guarantee', 'when', 'business', 'two', 'just', 'live', 'could', 'saturday', 'time', 'created', 'tactics', 'takes', 'sent', ('end', 'of'), 'in-depth', 'launch', 'join'} \n",
      "\n",
      "Text 5 Extracted Items: {'new', 'said', 'within', 'possible', 'mid-january', 'rental', 'out', 'perhaps', 'where', 'seek', 'plans', 'numbers', 'requests', 'cities', 'forces', 'customers', 'already', 'it', 'locals', 'registration', 'that', 'suddenly', 'popular', 'legal', 'but', 'rugby', 'summer', 'after', 'the', 'growth', 'japan', 'fund', 'listing', 'days', 'they', 'feared', 'costs', 'some', 'or', 'only', 'affordable', 'sharing', 'see', 'ward', 'would', 'tokyo', 'reported', 'unlicensed', 'for', ('there', 'be'), 'host', 'fully', 'worldwide', 'disarray', 'from', 'since', 'nick', ('and', 'that'), 'company', 'to', 'hotel', 'restrictions', 'house', 'helping', 'applying', 'our', 'nurture', 'activities', 'be', 'a', 'fears', 'will', 'available', ('stay', 'in'), 'asia-pacific', 'house-sharing', 'own', 'are', 'and', 'this', 'licensing', 'rent', 'japanese', 'being', 'must', 'an', 'most', 'five', 'online', 'chaos', 'used', 'put', 'many', ('out', 'of'), 'hotspot', 'which', 'protect', 'neighbors', 'have', 'home-sharing', 'remove', 'thursday', 'needed', 'cumbersome', ('along', 'with'), 'requiring', 'finding', ('have', 'to'), 'listings', 'plunged', ('like', 'new'), 'forced', 'know', 'last-minute', 'thousands', 'home-share', 'why', 'you', 'big', 'understatement', 'implementation', 'kyoto', 'made', 'olympics', 'allowed', ('world', 'cup'), 'visitors', 'reservations', 'country', 'stipulated', 'of', 'june', 'law', 'any', 'worst', 'destination', 'regulate', 'without', 't', 'licenses', 'add', ('last', 'year'), 'unexpectedly', 'were', 'is', 'healthy', 'removed', 'localities', 'too', 'issue', 'illegal', 'canceled', 'large', 'there', 'equipment', 'not', 'need', 'stinks', 'thrown', ('deal', 'with'), 'accepted', 'cover', 'authority', 'hassle', 'by', 'paid', ('to', 'go'), 'paris', 'because', 'notify', 'set', 'region', 'told', 'way', 'try', 'rethink', 'in', 'might', 'booking', 'central', 'mainly', 'cancel', 'home', 'using', 'bookings', 'with', 'others', 'regulations', 'tourists', 'arrivals', 'supply', 'immediate', 'regulates', 'jeopardizing', 'register', 'had', 'i', 'process', 'been', 'areas', 'their', 'residential', 'mid-march', 'government', 'tens', 'us', 'forcing', 'rejected', 'anyone', 'until', 'seems', ('planning', 'on'), 'service', 'has', 'travelers', 'criticized', 'comes', 'times', 'housing', ('of', 'a'), 'paperwork', ('going', 'forward'), 'hosts', 'on', ('go', 'through'), 'liza', 'local', 'official', 'announced', 'can', 'year', 'number', 'wanting', 'all', 'as', 'surrounding', 'license', 'tourist', ('due', 'to'), 'next', 'before', 'into', 'change', 'we', 'booked', 'could', 'created', ('new', 'york'), ('low', 'season'), 'fire'} \n",
      "\n",
      "Text 6 Extracted Items: {'new', 'commitment', 'them', 'work', 'extend', 'sustainability', 'committed', 'tracking', 'widely', 'who', ('a', 'lot'), 'ways', 'now', 'take', 'respected', 'disease', ('aim', 'at'), 'it', 'minimum', 'that', 'deployed', 'trajectory', 'upon', 'save', 'the', ('that', 'is'), 'partners', 'tenet', 'progression', 'portfolio', 'hypertension', 'industry-leading', 'tool', 'highly', ('in', 'addition'), 'purpose', 'kinder', 'advance', 'some', 'hopefully', 'dedicated', 'important', 'brings', 'places', 'across', 'problems', 'for', 'recognized', 'pharmaceuticals', 'worldwide', 'announcement', ('slow', 'down'), 'products', 'from', 'hurricane', 'including', 'credo', 'citizenship', 'adoption', 'named', 'company', 'headlines', 'to', 'mission', 'starting', 'access', 'military', 'helping', 'vaccine', ('team', 'up', 'with'), 'identifying', 'our', 'a', 'list', 'best-in-class', 'communities', 'companies', 'those', 'eligible', 'showcase', 'ceo', 'recognitions', 'medicines', 'include', 'are', 'and', 'this', 'children', ('look', 'back'), 'being', 'challenge', 'an', 'most', 'five', 'news', ('go', 'to'), 'many', ('parental', 'leave'), 'which', 'social', 'also', 'dates', 'objectives', 'driven', 'known', 'medical', 'help', 'eight', 'health', 'bestowed', 'finding', 'competition', 'community', ('make', 'to'), 'responsible', 'arterial', 'pathogens', ('quality', 'of', 'life'), 'its', 'changing', ('vice', 'president'), 'improve', 'employees', 'enables', 'made', 'public', 'setting', 'toward', 'full', 'unique', 'fortune', 'updated', 'solutions', 'goals', ('the', 'end'), 'of', 'patient', ('as', 'well'), ('last', 'year'), 'serve', 'coalition', 'were', 'is', 'executive', 'better', 'benefits', 'chairman', 'need', 'leave', 'globe', 'johnson', 'report', 'parental', 'paid', 'global', 'these', 'address', 'very', 'improving', 'pays', 'set', 'achieve', 'acquisition', ('to', 'the'), 'in', 'toughest', 'birth', 'world', 'focused', 'making', 'development', 'human', 'healthcare', 'receive', 'salary', 'reshape', 'been', 'their', 'progress', 'five-year', 'providing', 'letter', ('team', 'up'), 'launched', 'has', 'was', 'strides', 'healthier', ('mission', 'statement'), 'while', 'pulmonary', 'donation', 'on', 'paradigm-shifting', 'admired', 'venture', 'commitments', 'announced', 'far', 'achieving', 'can', 'humanity', 'planet', 'as', 'life', 'relief', ('what', 'the'), 'every', 'when', 'just', 'change', 'two', 'we', 'expanding', 'live', 'make', 'back', 'explore', 'weeks', 'honoring', 'debuted', ('end', 'of'), 'launch'} \n",
      "\n"
     ]
    }
   ],
   "source": [
    "print('Text 4 Extracted Items:',(set([item for item in text4_with_teacherscores['word_in_text'].tolist()])), '\\n')\n",
    "print('Text 5 Extracted Items:',(set([item for item in text5_with_teacherscores['word_in_text'].tolist()])), '\\n')\n",
    "print('Text 6 Extracted Items:',(set([item for item in text6_with_teacherscores['word_in_text'].tolist()])), '\\n')"
   ]
  }
 ],
 "metadata": {
  "kernelspec": {
   "display_name": "Python 3",
   "language": "python",
   "name": "python3"
  },
  "language_info": {
   "codemirror_mode": {
    "name": "ipython",
    "version": 3
   },
   "file_extension": ".py",
   "mimetype": "text/x-python",
   "name": "python",
   "nbconvert_exporter": "python",
   "pygments_lexer": "ipython3",
   "version": "3.6.4"
  }
 },
 "nbformat": 4,
 "nbformat_minor": 2
}
