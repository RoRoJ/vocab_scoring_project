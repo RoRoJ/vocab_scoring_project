{
 "cells": [
  {
   "cell_type": "code",
   "execution_count": 29,
   "metadata": {
    "collapsed": true
   },
   "outputs": [],
   "source": [
    "import pandas as pd\n",
    "\n",
    "class POSFeature:\n",
    "    \n",
    "    \"\"\"\n",
    "    This class computes POS scores for vocabulary items\n",
    "\n",
    "    Attributes:\n",
    "        pos_score_dict: a dictionary which maps POS tags to scores\n",
    "    \"\"\"\n",
    "    \n",
    "    def __init__(self):\n",
    "        \"\"\"\n",
    "        The constructor for the FrequencyFeature class.\n",
    "        \"\"\"\n",
    "        self.pos_score_dict=pd.read_excel('files/posscores.xlsx', header=0,usecols=[0,1],index_col='POS').to_dict()['Normalised Score']\n",
    "       \n",
    "    @staticmethod\n",
    "    def get_pos_score_table(text_maptagged_items, pos_score_dict):\n",
    "        \"\"\"\n",
    "        Assigns normalised POS scores for vocab items using the pos score dictionary\n",
    "\n",
    "        Params:\n",
    "            text maptagged_items(list): list of broad pos tagged vocab items\n",
    "            pos_score_dict (dictionary): dictionary which maps broad pos tags to scores\n",
    "        \n",
    "        Returns: pandas dataframe of vocabulary items and their POS tag scores\n",
    "        \"\"\"\n",
    "        base_table = pd.DataFrame(text_maptagged_items)\n",
    "        base_table.columns=['vocab_item','POS_Mapped']\n",
    "        base_table['POS_Score']=''\n",
    "\n",
    "        for index, row in base_table.iterrows():\n",
    "            row['POS_Score']=pos_score_dict[row['POS_Mapped']]\n",
    "                \n",
    "        return base_table\n"
   ]
  },
  {
   "cell_type": "code",
   "execution_count": null,
   "metadata": {
    "collapsed": true
   },
   "outputs": [],
   "source": []
  },
  {
   "cell_type": "code",
   "execution_count": null,
   "metadata": {
    "collapsed": true
   },
   "outputs": [],
   "source": []
  },
  {
   "cell_type": "code",
   "execution_count": null,
   "metadata": {
    "collapsed": true
   },
   "outputs": [],
   "source": []
  }
 ],
 "metadata": {
  "kernelspec": {
   "display_name": "Python 3",
   "language": "python",
   "name": "python3"
  },
  "language_info": {
   "codemirror_mode": {
    "name": "ipython",
    "version": 3
   },
   "file_extension": ".py",
   "mimetype": "text/x-python",
   "name": "python",
   "nbconvert_exporter": "python",
   "pygments_lexer": "ipython3",
   "version": "3.6.4"
  }
 },
 "nbformat": 4,
 "nbformat_minor": 2
}
