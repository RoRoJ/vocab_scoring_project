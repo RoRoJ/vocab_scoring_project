{
 "cells": [
  {
   "cell_type": "code",
   "execution_count": 8,
   "metadata": {
    "collapsed": true,
    "scrolled": true
   },
   "outputs": [],
   "source": [
    "import pandas as pd\n",
    "from TextItems import TextItems\n",
    "from FrequencyFeature import FrequencyFeature\n",
    "from L1SimilarityFeature import L1SimilarityFeature\n",
    "from LengthFeature import LengthFeature\n",
    "from POSFeature import POSFeature\n",
    "from POSFrequencyFeature import POSFrequencyFeature"
   ]
  },
  {
   "cell_type": "code",
   "execution_count": 9,
   "metadata": {
    "collapsed": true
   },
   "outputs": [],
   "source": [
    "class TextScorer:\n",
    "    \n",
    "    \"\"\"\n",
    "    This class represents a pandas dataframe holding vocabulary items from a text and their feature scores\n",
    "\n",
    "    Attributes:\n",
    "        text_sentences: list of sentence tokens from the text\n",
    "        text_untagged_items: list of vocabulary items from the text\n",
    "        text_tagged_items: list of NLTK POS-tagged vocabulary items from the text\n",
    "        text_maptagged_items: list of broader POS-tagged vocabulary items from the text\n",
    "        master_table: pandas dataframe holding vocab items, tags and feature scores\n",
    "    \"\"\"\n",
    "    \n",
    "    def __init__(self, textfilepath):\n",
    "        \"\"\"\n",
    "        The constructor for the TextScorer class.\n",
    "        \n",
    "        Parameters:\n",
    "           textfilepath (string): The filepath for the text file  \n",
    "        \"\"\"\n",
    "        #Calls the TextItems class to create vocabulary items from the text\n",
    "        self.text_sentences = TextItems(textfilepath).text_sentences\n",
    "        self.text_untagged_items = TextItems.get_text_items(self.text_sentences, return_option='untagged', case_option='all_lower', exclude_nondict_option='yes')\n",
    "        self.text_tagged_items = TextItems.get_text_items(self.text_sentences, return_option='tagged', case_option='all_lower', exclude_nondict_option='yes')\n",
    "        self.text_maptagged_items = TextItems.map_text_tags(self.text_tagged_items)\n",
    "        \n",
    "        #create table to hold text items, postags and mapped postags\n",
    "        table = pd.merge(pd.DataFrame(self.text_tagged_items), pd.DataFrame(self.text_maptagged_items), left_index=True, right_index=True)\n",
    "        table.drop(['0_y'], axis=1, inplace=True)\n",
    "        table.columns=['word_in_text', 'pos_tag', 'mapped_tag']\n",
    "        self.master_table = table\n",
    "    \n",
    "    def add_freq_scores(self):\n",
    "        \"\"\"\n",
    "        Method to call FrequencyFeature class and acquire Frequency scores\n",
    "        Updates the class attribute master_table which holds all frequency scores, and returns it\n",
    "        \"\"\"\n",
    "        self.freqdistdict=FrequencyFeature().new_freqdist_dict\n",
    "        freq_scored_text=FrequencyFeature.get_freqscore_table(self.text_untagged_items, self.freqdistdict)\n",
    "        updated_table = self.master_table.join(freq_scored_text['freq_normalised_score'])\n",
    "        self.master_table = updated_table.rename(columns = {'freq_normalised_score':'freq_score'})\n",
    "        return self.master_table\n",
    "   \n",
    "    def add_l1sim_scores(self):\n",
    "        \"\"\"\n",
    "        Method to call L1SimilarityFeature class and acquire L1Similarity scores\n",
    "        Updates the class attribute master_table which holds all frequency scores, and returns it\n",
    "        \"\"\"\n",
    "        self.frenchdictdict_simple=L1SimilarityFeature().french_dict_simple\n",
    "        self.frenchdictdict_pos=L1SimilarityFeature().french_dict_pos\n",
    "        \n",
    "        french_scored_text=L1SimilarityFeature.get_frenchscore_table_pos(self.text_maptagged_items, self.frenchdictdict_pos, self.frenchdictdict_simple)\n",
    "        self.french_detail_table = french_scored_text\n",
    "        \n",
    "        self.master_table = self.master_table.join(french_scored_text['french_score'])\n",
    "        self.master_table = self.master_table.rename(columns = {'french_score':'l1sim_score'})\n",
    "        return self.master_table\n",
    "    \n",
    "    def add_length_scores(self):\n",
    "        \"\"\"\n",
    "        Method to call LengthFeature class and acquire Length scores\n",
    "        Updates the class attribute master_table which holds all frequency scores, and returns it\n",
    "        \"\"\"\n",
    "        self.lengthdict=LengthFeature().length_score_dict\n",
    "        length_scored_text=LengthFeature.get_lengthscore_table(self.text_untagged_items, self.lengthdict)\n",
    "        self.master_table = self.master_table.join(length_scored_text['length_score'])\n",
    "        return self.master_table\n",
    "    \n",
    "    def add_pos_scores(self):\n",
    "        \"\"\"\n",
    "        Method to call POSFeature class and acquire POS scores\n",
    "        Updates the class attribute master_table which holds all frequency scores, and returns it\n",
    "        \"\"\"\n",
    "        self.posdict=POSFeature().pos_score_dict\n",
    "        pos_scored_text=POSFeature.get_pos_score_table(self.text_maptagged_items, self.posdict)\n",
    "        self.master_table = self.master_table.join(pos_scored_text['POS_Score'])\n",
    "        return self.master_table\n",
    "    \n",
    "    def add_posfreq_scores(self):\n",
    "        \"\"\"\n",
    "        Method to call POSFeature class and acquire POS scores\n",
    "        Updates the class attribute master_table which holds all frequency scores, and returns it\n",
    "        \"\"\"\n",
    "        self.freq_dist_dict_postagged=POSFrequencyFeature().bnc_freqdist_pos_dict\n",
    "        pos_freqscored_text=POSFrequencyFeature.get_pos_freqscore_table(self.text_tagged_items, self.freq_dist_dict_postagged)        \n",
    "        self.master_table = self.master_table.join(pos_freqscored_text['freq_pos_normalised_score'])\n",
    "        return self.master_table\n",
    "    \n",
    "    def reset_master_table(self):\n",
    "        \"\"\"\n",
    "        Method to call reset the master table by overwriting it with the constructor version\n",
    "        \"\"\"\n",
    "        table = pd.merge(pd.DataFrame(self.text_tagged_items), pd.DataFrame(self.text_maptagged_items), left_index=True, right_index=True)\n",
    "        table.drop(['0_y'], axis=1, inplace=True)\n",
    "        table.columns=['word_in_text', 'pos_tag', 'mapped_tag']\n",
    "        self.master_table = table\n",
    "        return self.master_table\n",
    "    \n",
    "    def add_all_scores(self):\n",
    "        \"\"\"\n",
    "        Method to call all the other add_xx_scores methods and add scores all in one go\n",
    "        Updates the class attribute master_table and returns it\n",
    "        \"\"\"\n",
    "        TextScorer.add_freq_scores(self)\n",
    "        TextScorer.add_l1sim_scores(self)\n",
    "        TextScorer.add_length_scores(self)\n",
    "        TextScorer.add_pos_scores(self)\n",
    "        TextScorer.add_posfreq_scores(self)\n",
    "        return self.master_table"
   ]
  },
  {
   "cell_type": "code",
   "execution_count": null,
   "metadata": {
    "collapsed": true
   },
   "outputs": [],
   "source": []
  },
  {
   "cell_type": "code",
   "execution_count": null,
   "metadata": {
    "collapsed": true
   },
   "outputs": [],
   "source": []
  },
  {
   "cell_type": "code",
   "execution_count": null,
   "metadata": {
    "collapsed": true
   },
   "outputs": [],
   "source": []
  },
  {
   "cell_type": "code",
   "execution_count": null,
   "metadata": {
    "collapsed": true
   },
   "outputs": [],
   "source": []
  }
 ],
 "metadata": {
  "kernelspec": {
   "display_name": "Python 3",
   "language": "python",
   "name": "python3"
  },
  "language_info": {
   "codemirror_mode": {
    "name": "ipython",
    "version": 3
   },
   "file_extension": ".py",
   "mimetype": "text/x-python",
   "name": "python",
   "nbconvert_exporter": "python",
   "pygments_lexer": "ipython3",
   "version": "3.6.4"
  }
 },
 "nbformat": 4,
 "nbformat_minor": 2
}
