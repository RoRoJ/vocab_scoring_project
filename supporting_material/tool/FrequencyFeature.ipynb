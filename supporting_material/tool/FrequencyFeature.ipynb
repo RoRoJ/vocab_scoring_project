{
 "cells": [
  {
   "cell_type": "code",
   "execution_count": 3,
   "metadata": {},
   "outputs": [],
   "source": [
    "import numpy as np\n",
    "import pandas as pd\n",
    "from sklearn import preprocessing\n",
    "import re\n",
    "import pickle\n",
    "\n",
    "class FrequencyFeature:\n",
    "    \n",
    "    \"\"\"\n",
    "    This class computes Frequency scores for vocabulary items\n",
    "\n",
    "    Attributes:\n",
    "        new_freqdist_dict: a dictionary which maps vocabulary items to frequencies in the BNC\n",
    "    \"\"\"\n",
    "    \n",
    "    def __init__(self):\n",
    "        \"\"\"\n",
    "        The constructor for the FrequencyFeature class.\n",
    "        \"\"\"\n",
    "        with open(r'obj/combined_bnc_freqdist_dict_lower.pkl', 'rb') as f:\n",
    "            bnc_freqdist_dict=pickle.load(f)\n",
    "        self.new_freqdist_dict=bnc_freqdist_dict\n",
    "            \n",
    "\n",
    "    @staticmethod\n",
    "    def get_freqscore_table(text_untagged_items, freq_dist_dict):\n",
    "        \"\"\"\n",
    "        Calculates normalised Frequency  scores for vocab items using the frequency dictionary\n",
    "\n",
    "        Params:\n",
    "            text_untagged_items(list): list of vocabulary items\n",
    "            freq_dist_dict: dictionary which maps vocabulary items to frequencies in the BNC\n",
    "        \n",
    "        Returns: pandas dataframe of vocabulary items and their normalised frequency scores\n",
    "        \"\"\"\n",
    "        base_table = pd.DataFrame(text_untagged_items)\n",
    "        base_table.columns=['word_in_text']\n",
    "        base_table['freq']=''\n",
    "        for index, row in base_table.iterrows():\n",
    "            if row['word_in_text'] in freq_dist_dict:\n",
    "                row['freq'] = freq_dist_dict[row['word_in_text']]\n",
    "            else:\n",
    "                row['freq'] = 0\n",
    "        base_table['freq_smoothed']=base_table['freq'].astype(float)+1\n",
    "        \n",
    "        total_dict_instances=0\n",
    "        for entry in freq_dist_dict:\n",
    "            total_dict_instances+=freq_dist_dict[entry]\n",
    "        total_instances_smoothed=total_dict_instances+(len(base_table))\n",
    "        \n",
    "        base_table['freq_proportion']=base_table['freq_smoothed'] / total_instances_smoothed\n",
    "        base_table['freq_log']=np.log(base_table['freq_proportion'])\n",
    "        x = base_table['freq_log'].values.astype(float) #returns a numpy array\n",
    "        x = x.reshape(-1,1)\n",
    "        min_max_scaler = preprocessing.MinMaxScaler()\n",
    "        x_scaled = min_max_scaler.fit_transform(x)\n",
    "        base_table['freq_normalised_score'] = (1-x_scaled)\n",
    "        base_table=base_table[['word_in_text', 'freq_normalised_score']]\n",
    "        return base_table"
   ]
  },
  {
   "cell_type": "code",
   "execution_count": null,
   "metadata": {
    "collapsed": true
   },
   "outputs": [],
   "source": []
  },
  {
   "cell_type": "code",
   "execution_count": null,
   "metadata": {
    "collapsed": true
   },
   "outputs": [],
   "source": []
  },
  {
   "cell_type": "code",
   "execution_count": null,
   "metadata": {
    "collapsed": true
   },
   "outputs": [],
   "source": []
  },
  {
   "cell_type": "code",
   "execution_count": null,
   "metadata": {
    "collapsed": true
   },
   "outputs": [],
   "source": []
  }
 ],
 "metadata": {
  "kernelspec": {
   "display_name": "Python 3",
   "language": "python",
   "name": "python3"
  },
  "language_info": {
   "codemirror_mode": {
    "name": "ipython",
    "version": 3
   },
   "file_extension": ".py",
   "mimetype": "text/x-python",
   "name": "python",
   "nbconvert_exporter": "python",
   "pygments_lexer": "ipython3",
   "version": "3.6.4"
  }
 },
 "nbformat": 4,
 "nbformat_minor": 2
}
