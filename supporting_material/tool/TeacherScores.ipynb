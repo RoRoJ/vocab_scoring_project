{
 "cells": [
  {
   "cell_type": "code",
   "execution_count": 7,
   "metadata": {
    "collapsed": true
   },
   "outputs": [],
   "source": [
    "import pandas as pd\n",
    "\n",
    "class TeacherScores:\n",
    "    \n",
    "    \"\"\"\n",
    "    This class maps the aggregate teacher difficulty scores for each vocabulary item onto a dataframe holding said items\n",
    "    Attributes:\n",
    "        scored_sw_tokens_dict: a dictionary which maps vocabulary items to aggregate teacher difficulty scores\n",
    "    \"\"\"\n",
    "    \n",
    "    #open text with plain text reader, return its tokenized sentences, and count of tokenized words\n",
    "    def __init__(self, text):\n",
    "        \"\"\"\n",
    "        The constructor for the class\n",
    "        Params:\n",
    "            text(string): specifies the sample text name to map teacher scores for\n",
    "        \"\"\"\n",
    "        sheetname = text+'_responses'\n",
    "        scored_sw_tokens_dict = pd.read_excel('files/teacher_scores.xlsx', sheet_name=sheetname, usecols='A,B', index_col=0, header=0).to_dict()\n",
    "        self.scored_sw_tokens_dict = scored_sw_tokens_dict['Score']\n",
    "        \n",
    "        #deals with MWEs in the excel file by transforming them into tuples to match object format in TextItems\n",
    "        teacher_scores_dict=[]\n",
    "        for key in self.scored_sw_tokens_dict:\n",
    "            if ' ' in key:\n",
    "                new_key = key.split(' ')\n",
    "                teacher_scores_dict.append(((tuple(new_key)), self.scored_sw_tokens_dict[key]))\n",
    "            else:\n",
    "                teacher_scores_dict.append((key, self.scored_sw_tokens_dict[key]))                 \n",
    "        self.teacher_scores_dict= dict(teacher_scores_dict)\n",
    "        \n",
    "    def add_teacher_scores(self, table):\n",
    "        \"\"\"\n",
    "        Method takes a pandas dataframe of vocabulary items and maps them to teacher scores\n",
    "        Params: \n",
    "            table (pd dataframe): The dataframe of vocabulary items to look up teacher scores for\n",
    "        \"\"\"\n",
    "        table['teacher_score']=''\n",
    "        for i, row in table.iterrows():\n",
    "            if row['word_in_text'] in self.teacher_scores_dict:\n",
    "                table.at[i,'teacher_score'] = self.teacher_scores_dict[row['word_in_text']]\n",
    "            else:\n",
    "                table.at[i,'teacher_score'] =0\n",
    "        return table\n"
   ]
  },
  {
   "cell_type": "code",
   "execution_count": null,
   "metadata": {
    "collapsed": true
   },
   "outputs": [],
   "source": []
  },
  {
   "cell_type": "code",
   "execution_count": null,
   "metadata": {
    "collapsed": true
   },
   "outputs": [],
   "source": []
  },
  {
   "cell_type": "code",
   "execution_count": null,
   "metadata": {
    "collapsed": true
   },
   "outputs": [],
   "source": []
  }
 ],
 "metadata": {
  "kernelspec": {
   "display_name": "Python 3",
   "language": "python",
   "name": "python3"
  },
  "language_info": {
   "codemirror_mode": {
    "name": "ipython",
    "version": 3
   },
   "file_extension": ".py",
   "mimetype": "text/x-python",
   "name": "python",
   "nbconvert_exporter": "python",
   "pygments_lexer": "ipython3",
   "version": "3.6.4"
  }
 },
 "nbformat": 4,
 "nbformat_minor": 2
}
