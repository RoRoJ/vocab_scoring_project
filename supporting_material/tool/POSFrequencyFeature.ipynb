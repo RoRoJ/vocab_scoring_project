{
 "cells": [
  {
   "cell_type": "code",
   "execution_count": 4,
   "metadata": {
    "collapsed": true
   },
   "outputs": [],
   "source": [
    "import numpy as np\n",
    "import pandas as pd\n",
    "from sklearn import preprocessing\n",
    "import pickle\n",
    "\n",
    "\n",
    "class POSFrequencyFeature:\n",
    "    \n",
    "    \"\"\"\n",
    "    This class computes Frequency scores for vocabulary items incorporating POS tags into the frequency distr & score\n",
    "\n",
    "    Attributes:\n",
    "        bnc_freqdist_pos_dict: a dictionary which maps pos-tagged vocabulary items to pos-tagged frequencies in the BNC\n",
    "    \"\"\"\n",
    "    \n",
    "    #open text with plain text reader, return its tokenized sentences, and count of tokenized words\n",
    "    def __init__(self):\n",
    "        \"\"\"\n",
    "        The constructor for the POSFrequencyFeature class.\n",
    "        \"\"\"\n",
    "        with open(r'C:/Users/rowena/Documents/MSC/Project/obj/combined_tagged_bnc_freqdict_lower.pkl', 'rb') as f:\n",
    "            bnc_freqdist_pos_dict=pickle.load(f)\n",
    "        self.bnc_freqdist_pos_dict=bnc_freqdist_pos_dict      \n",
    "\n",
    "    @staticmethod\n",
    "    def get_pos_freqscore_table(text_tagged_items, freq_dist_dict):\n",
    "        \"\"\"\n",
    "        Calculates normalised Frequency  scores for vocab items using the POS-taggedfrequency dictionary\n",
    "\n",
    "        Params:\n",
    "            text_tagged_items(list): list of vocabulary items with their NLTK POS tags\n",
    "            freq_dist_dict: dictionary which maps vocabulary items with POS tags to frequencies in the BNC\n",
    "        \n",
    "        Returns: pandas dataframe of vocabulary items and their normalised POS frequency scores\n",
    "        \"\"\"\n",
    "        base_table = pd.DataFrame(text_tagged_items)\n",
    "        base_table['tuple_tagged_wordintext']=''\n",
    "        for index, row in base_table.iterrows():\n",
    "            row['tuple_tagged_wordintext']=(row[0], row[1])\n",
    "            \n",
    "        base_table['freq']=''\n",
    "        for index, row in base_table.iterrows():\n",
    "            if row['tuple_tagged_wordintext'] in freq_dist_dict:\n",
    "                row['freq'] = freq_dist_dict[row['tuple_tagged_wordintext']]\n",
    "            else: \n",
    "                row['freq'] = 0\n",
    "        \n",
    "        base_table['freq_smoothed']=base_table['freq'].astype(float)+1\n",
    "        \n",
    "        total_dict_instances=0\n",
    "        for entry in freq_dist_dict:\n",
    "            total_dict_instances+=freq_dist_dict[entry]\n",
    "        total_instances_smoothed=total_dict_instances+(len(base_table))\n",
    "\n",
    "        base_table['freq_proportion']=base_table['freq_smoothed'] / total_instances_smoothed\n",
    "\n",
    "        base_table['freq_log']=np.log(base_table['freq_proportion'])\n",
    "\n",
    "        x = base_table['freq_log'].values.astype(float) #returns a numpy array\n",
    "        x = x.reshape(-1,1)\n",
    "        min_max_scaler = preprocessing.MinMaxScaler()\n",
    "        x_scaled = min_max_scaler.fit_transform(x)\n",
    "        base_table['freq_pos_normalised_score'] = (1-x_scaled)\n",
    "        \n",
    "        base_table.rename(columns={0:'word_in_text', 1:'POS_tag'}, inplace=True)\n",
    "        base_table=base_table[['word_in_text', 'POS_tag','tuple_tagged_wordintext', 'freq_pos_normalised_score']]\n",
    "        \n",
    "        return base_table"
   ]
  },
  {
   "cell_type": "code",
   "execution_count": null,
   "metadata": {
    "collapsed": true
   },
   "outputs": [],
   "source": []
  },
  {
   "cell_type": "code",
   "execution_count": null,
   "metadata": {
    "collapsed": true
   },
   "outputs": [],
   "source": []
  },
  {
   "cell_type": "code",
   "execution_count": null,
   "metadata": {
    "collapsed": true
   },
   "outputs": [],
   "source": []
  },
  {
   "cell_type": "code",
   "execution_count": null,
   "metadata": {
    "collapsed": true
   },
   "outputs": [],
   "source": []
  }
 ],
 "metadata": {
  "kernelspec": {
   "display_name": "Python 3",
   "language": "python",
   "name": "python3"
  },
  "language_info": {
   "codemirror_mode": {
    "name": "ipython",
    "version": 3
   },
   "file_extension": ".py",
   "mimetype": "text/x-python",
   "name": "python",
   "nbconvert_exporter": "python",
   "pygments_lexer": "ipython3",
   "version": "3.6.4"
  }
 },
 "nbformat": 4,
 "nbformat_minor": 2
}
