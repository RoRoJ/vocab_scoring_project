{
 "cells": [
  {
   "cell_type": "code",
   "execution_count": 2,
   "metadata": {
    "collapsed": true
   },
   "outputs": [],
   "source": [
    "import matplotlib.pyplot as plt\n",
    "import numpy as np\n",
    "from pydoc import help\n",
    "from scipy.stats.stats import pearsonr"
   ]
  },
  {
   "cell_type": "code",
   "execution_count": 1,
   "metadata": {
    "collapsed": true
   },
   "outputs": [],
   "source": [
    "class Analysis_Helper:\n",
    "    \n",
    "    \"\"\"\n",
    "    This class provides a helper method to analyse feature scores against teacher (target) scores\n",
    "\n",
    "    \"\"\"\n",
    "    \n",
    "    @staticmethod\n",
    "    def drop_dups_get_errorrate(scoredtable, featurescorecolumnname, textforgraphtitle='None', graph='no'):\n",
    "        \n",
    "        \"\"\"\n",
    "        Method prints mean squared error rate, Pearson correlation co-efficient and pvalue, and scattergraph\n",
    "        of the specified feature against teacher (target) scores\n",
    "        Params:\n",
    "            scored_table: a pandas dataframe containing vocab items for a text with a column for each feature score\n",
    "            featurescorecolumnname: specifies the feature to be analysed\n",
    "            textforgraphtitle: text name for graph title\n",
    "            graph: 'yes' to print the graph, 'no' to skip the graph print\n",
    "        \"\"\"\n",
    "    \n",
    "        table=scoredtable.copy()\n",
    "        print('Analysis of', textforgraphtitle, featurescorecolumnname, 'against teacher scores:')\n",
    "        #convert the numeric columns to float types\n",
    "        table[featurescorecolumnname].astype(float)\n",
    "        table['teacher_score']=table.teacher_score.astype(float)\n",
    "    \n",
    "        #drop any duplicate rows\n",
    "        table.drop_duplicates(subset='word_in_text', keep='first', inplace=True)\n",
    "    \n",
    "        #get mean square error rate\n",
    "        number_rows=table.shape[0]\n",
    "        table['diff_squared']=(table['teacher_score']-table[featurescorecolumnname])**2\n",
    "        msqer=table['diff_squared'].sum() / number_rows\n",
    "        print('Mean squared error rate is', round(msqer,2))\n",
    "    \n",
    "        #get pearson correlation coefficient\n",
    "        p_coeff, pval=pearsonr(table['teacher_score'], table[featurescorecolumnname])\n",
    "        print('Pearson correlation co-efficient: ',round(p_coeff,2), 'and two-tailed pvalue:', round(pval,2))\n",
    "    \n",
    "        if graph=='yes':\n",
    "           \n",
    "            #make basic graph and set axis labels    \n",
    "            ax = table.set_index('teacher_score')[featurescorecolumnname].plot(style='o', figsize=(20,20),grid=True, title=('Teacher Scores / Frequency Scores:' + textforgraphtitle))\n",
    "            ax.set_xlabel(\"teacher_score\")\n",
    "            ax.set_ylabel(featurescorecolumnname)\n",
    "    \n",
    "            #label scatter points #https://stackoverflow.com/questions/15910019/annotate-data-points-while-plotting-from-pandas-dataframe\n",
    "            #for i, point in table.iterrows():\n",
    "                #ax.text(point['teacher_score'], point[featurescorecolumnname], str(point['word_in_text']))\n",
    "    \n",
    "            #add trend line https://stackoverflow.com/questions/41635448/how-can-i-draw-scatter-trend-line-on-matplot-python-pandas\n",
    "            x=table['teacher_score']\n",
    "            y=table[featurescorecolumnname]\n",
    "            z = np.polyfit(x, y, 1)\n",
    "            p = np.poly1d(z)\n",
    "            plt.plot(x,p(x),\"r--\")\n",
    "    \n",
    "            print(plt.show())\n",
    "        print('\\n')"
   ]
  },
  {
   "cell_type": "code",
   "execution_count": null,
   "metadata": {
    "collapsed": true
   },
   "outputs": [],
   "source": []
  }
 ],
 "metadata": {
  "kernelspec": {
   "display_name": "Python 3",
   "language": "python",
   "name": "python3"
  },
  "language_info": {
   "codemirror_mode": {
    "name": "ipython",
    "version": 3
   },
   "file_extension": ".py",
   "mimetype": "text/x-python",
   "name": "python",
   "nbconvert_exporter": "python",
   "pygments_lexer": "ipython3",
   "version": "3.6.4"
  }
 },
 "nbformat": 4,
 "nbformat_minor": 2
}
