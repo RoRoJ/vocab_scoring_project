{
 "cells": [
  {
   "cell_type": "code",
   "execution_count": 64,
   "metadata": {
    "collapsed": true
   },
   "outputs": [],
   "source": [
    "import numpy as np\n",
    "import pandas as pd\n",
    "\n",
    "class LengthFeature:\n",
    "    \n",
    "    \"\"\"\n",
    "    This class computes Length scores for vocabulary items\n",
    "\n",
    "    Attributes:\n",
    "        length_score_dict: a dictionary which maps vocabulary items to length scores\n",
    "    \"\"\"\n",
    "    \n",
    "    def __init__(self):\n",
    "        \"\"\"\n",
    "        The constructor initialises the length score dictionary\n",
    "        \"\"\"\n",
    "        self.length_score_dict=pd.read_excel('files/lengthscores.xlsx', header=None, index_col=0).to_dict()[1]\n",
    "       \n",
    "    @staticmethod\n",
    "    def get_lengthscore_table(text_untagged_items, length_score_dict):\n",
    "        \"\"\"\n",
    "        Assigns length scores for vocab items using the length dictionary\n",
    "\n",
    "        Params:\n",
    "            text_untagged_items (list): list of vocabulary items\n",
    "            length_score_dict (dictionary): dictionary which maps lengths to scores\n",
    "        \n",
    "        Returns: pandas dataframe of vocabulary items and their length scores\n",
    "        \"\"\"\n",
    "        base_table = pd.DataFrame(text_untagged_items)\n",
    "        base_table.columns=['vocab_item']\n",
    "        base_table['length']=''\n",
    "        base_table['length_score']=''\n",
    "        for index, row in base_table.iterrows():\n",
    "            if type(row['vocab_item'])!=tuple:\n",
    "                row['length'] = len(row['vocab_item'])\n",
    "            elif type(row['vocab_item'])==tuple:\n",
    "                length=0\n",
    "                for item in row['vocab_item']:\n",
    "                    length+=len(item)\n",
    "                row['length'] = length\n",
    "            if row['length']>91:\n",
    "                row['length_score']=1.0\n",
    "            else:\n",
    "                row['length_score']=length_score_dict[row['length']]\n",
    "                \n",
    "        return base_table"
   ]
  },
  {
   "cell_type": "code",
   "execution_count": null,
   "metadata": {
    "collapsed": true
   },
   "outputs": [],
   "source": []
  }
 ],
 "metadata": {
  "kernelspec": {
   "display_name": "Python 3",
   "language": "python",
   "name": "python3"
  },
  "language_info": {
   "codemirror_mode": {
    "name": "ipython",
    "version": 3
   },
   "file_extension": ".py",
   "mimetype": "text/x-python",
   "name": "python",
   "nbconvert_exporter": "python",
   "pygments_lexer": "ipython3",
   "version": "3.6.4"
  }
 },
 "nbformat": 4,
 "nbformat_minor": 2
}
